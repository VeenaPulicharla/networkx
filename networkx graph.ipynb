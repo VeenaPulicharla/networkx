{
 "cells": [
  {
   "cell_type": "markdown",
   "metadata": {},
   "source": [
    "## creating networkx graph from pandas data_frame\n"
   ]
  },
  {
   "cell_type": "code",
   "execution_count": 2,
   "metadata": {},
   "outputs": [],
   "source": [
    "import networkx as nx\n",
    "import pandas as pd\n",
    "\n",
    "\n",
    "edgelist = pd.read_csv(\"/Users/sim_table.csv\")"
   ]
  },
  {
   "cell_type": "code",
   "execution_count": 3,
   "metadata": {},
   "outputs": [
    {
     "data": {
      "text/html": [
       "<div>\n",
       "<style scoped>\n",
       "    .dataframe tbody tr th:only-of-type {\n",
       "        vertical-align: middle;\n",
       "    }\n",
       "\n",
       "    .dataframe tbody tr th {\n",
       "        vertical-align: top;\n",
       "    }\n",
       "\n",
       "    .dataframe thead th {\n",
       "        text-align: right;\n",
       "    }\n",
       "</style>\n",
       "<table border=\"1\" class=\"dataframe\">\n",
       "  <thead>\n",
       "    <tr style=\"text-align: right;\">\n",
       "      <th></th>\n",
       "      <th>Unnamed: 0</th>\n",
       "      <th>Gensim_LSI</th>\n",
       "      <th>Word2vec_similarity_score</th>\n",
       "      <th>cosine_similarity_score</th>\n",
       "    </tr>\n",
       "  </thead>\n",
       "  <tbody>\n",
       "    <tr>\n",
       "      <th>0</th>\n",
       "      <td>australian_number</td>\n",
       "      <td>0.685278</td>\n",
       "      <td>0.718191</td>\n",
       "      <td>1.000000</td>\n",
       "    </tr>\n",
       "    <tr>\n",
       "      <th>1</th>\n",
       "      <td>australian_round</td>\n",
       "      <td>0.928121</td>\n",
       "      <td>0.715879</td>\n",
       "      <td>1.000000</td>\n",
       "    </tr>\n",
       "    <tr>\n",
       "      <th>2</th>\n",
       "      <td>federer_australian</td>\n",
       "      <td>0.949249</td>\n",
       "      <td>0.724304</td>\n",
       "      <td>1.000000</td>\n",
       "    </tr>\n",
       "    <tr>\n",
       "      <th>3</th>\n",
       "      <td>federer_number</td>\n",
       "      <td>0.874801</td>\n",
       "      <td>0.727110</td>\n",
       "      <td>1.000000</td>\n",
       "    </tr>\n",
       "    <tr>\n",
       "      <th>4</th>\n",
       "      <td>federer_open</td>\n",
       "      <td>0.976386</td>\n",
       "      <td>0.722711</td>\n",
       "      <td>0.228313</td>\n",
       "    </tr>\n",
       "  </tbody>\n",
       "</table>\n",
       "</div>"
      ],
      "text/plain": [
       "           Unnamed: 0  Gensim_LSI  Word2vec_similarity_score  \\\n",
       "0   australian_number    0.685278                   0.718191   \n",
       "1    australian_round    0.928121                   0.715879   \n",
       "2  federer_australian    0.949249                   0.724304   \n",
       "3      federer_number    0.874801                   0.727110   \n",
       "4        federer_open    0.976386                   0.722711   \n",
       "\n",
       "   cosine_similarity_score  \n",
       "0                 1.000000  \n",
       "1                 1.000000  \n",
       "2                 1.000000  \n",
       "3                 1.000000  \n",
       "4                 0.228313  "
      ]
     },
     "execution_count": 3,
     "metadata": {},
     "output_type": "execute_result"
    }
   ],
   "source": [
    "edgelist.head()"
   ]
  },
  {
   "cell_type": "code",
   "execution_count": 20,
   "metadata": {},
   "outputs": [],
   "source": [
    "# create empty graph\n",
    "g1 = nx.Graph()"
   ]
  },
  {
   "cell_type": "code",
   "execution_count": 15,
   "metadata": {},
   "outputs": [],
   "source": [
    "# removing column\n",
    "concepts = edgelist['Unnamed: 0']\n",
    "edgelist['concepts'] = concepts\n",
    "edgelist.drop(columns='Unnamed: 0', inplace = True)"
   ]
  },
  {
   "cell_type": "code",
   "execution_count": 16,
   "metadata": {},
   "outputs": [
    {
     "data": {
      "text/html": [
       "<div>\n",
       "<style scoped>\n",
       "    .dataframe tbody tr th:only-of-type {\n",
       "        vertical-align: middle;\n",
       "    }\n",
       "\n",
       "    .dataframe tbody tr th {\n",
       "        vertical-align: top;\n",
       "    }\n",
       "\n",
       "    .dataframe thead th {\n",
       "        text-align: right;\n",
       "    }\n",
       "</style>\n",
       "<table border=\"1\" class=\"dataframe\">\n",
       "  <thead>\n",
       "    <tr style=\"text-align: right;\">\n",
       "      <th></th>\n",
       "      <th>Gensim_LSI</th>\n",
       "      <th>Word2vec_similarity_score</th>\n",
       "      <th>cosine_similarity_score</th>\n",
       "      <th>concepts</th>\n",
       "    </tr>\n",
       "  </thead>\n",
       "  <tbody>\n",
       "    <tr>\n",
       "      <th>0</th>\n",
       "      <td>0.685278</td>\n",
       "      <td>0.718191</td>\n",
       "      <td>1.000000</td>\n",
       "      <td>australian_number</td>\n",
       "    </tr>\n",
       "    <tr>\n",
       "      <th>1</th>\n",
       "      <td>0.928121</td>\n",
       "      <td>0.715879</td>\n",
       "      <td>1.000000</td>\n",
       "      <td>australian_round</td>\n",
       "    </tr>\n",
       "    <tr>\n",
       "      <th>2</th>\n",
       "      <td>0.949249</td>\n",
       "      <td>0.724304</td>\n",
       "      <td>1.000000</td>\n",
       "      <td>federer_australian</td>\n",
       "    </tr>\n",
       "    <tr>\n",
       "      <th>3</th>\n",
       "      <td>0.874801</td>\n",
       "      <td>0.727110</td>\n",
       "      <td>1.000000</td>\n",
       "      <td>federer_number</td>\n",
       "    </tr>\n",
       "    <tr>\n",
       "      <th>4</th>\n",
       "      <td>0.976386</td>\n",
       "      <td>0.722711</td>\n",
       "      <td>0.228313</td>\n",
       "      <td>federer_open</td>\n",
       "    </tr>\n",
       "  </tbody>\n",
       "</table>\n",
       "</div>"
      ],
      "text/plain": [
       "   Gensim_LSI  Word2vec_similarity_score  cosine_similarity_score  \\\n",
       "0    0.685278                   0.718191                 1.000000   \n",
       "1    0.928121                   0.715879                 1.000000   \n",
       "2    0.949249                   0.724304                 1.000000   \n",
       "3    0.874801                   0.727110                 1.000000   \n",
       "4    0.976386                   0.722711                 0.228313   \n",
       "\n",
       "             concepts  \n",
       "0   australian_number  \n",
       "1    australian_round  \n",
       "2  federer_australian  \n",
       "3      federer_number  \n",
       "4        federer_open  "
      ]
     },
     "execution_count": 16,
     "metadata": {},
     "output_type": "execute_result"
    }
   ],
   "source": [
    "edgelist.head()"
   ]
  },
  {
   "cell_type": "code",
   "execution_count": 17,
   "metadata": {},
   "outputs": [],
   "source": [
    "nodes1 = []\n",
    "nodes2 = []\n",
    "for i in concepts:\n",
    "    node1, node2 = i.split('_')\n",
    "    nodes1.append(node1)\n",
    "    nodes2.append(node2)\n",
    "    "
   ]
  },
  {
   "cell_type": "code",
   "execution_count": 18,
   "metadata": {},
   "outputs": [
    {
     "data": {
      "text/plain": [
       "36"
      ]
     },
     "execution_count": 18,
     "metadata": {},
     "output_type": "execute_result"
    }
   ],
   "source": [
    "edgelist['Nodes1'] = nodes1\n",
    "edgelist['Nodes2'] = nodes2\n",
    "len(nodes2)"
   ]
  },
  {
   "cell_type": "code",
   "execution_count": 19,
   "metadata": {},
   "outputs": [
    {
     "data": {
      "text/html": [
       "<div>\n",
       "<style scoped>\n",
       "    .dataframe tbody tr th:only-of-type {\n",
       "        vertical-align: middle;\n",
       "    }\n",
       "\n",
       "    .dataframe tbody tr th {\n",
       "        vertical-align: top;\n",
       "    }\n",
       "\n",
       "    .dataframe thead th {\n",
       "        text-align: right;\n",
       "    }\n",
       "</style>\n",
       "<table border=\"1\" class=\"dataframe\">\n",
       "  <thead>\n",
       "    <tr style=\"text-align: right;\">\n",
       "      <th></th>\n",
       "      <th>Gensim_LSI</th>\n",
       "      <th>Word2vec_similarity_score</th>\n",
       "      <th>cosine_similarity_score</th>\n",
       "      <th>concepts</th>\n",
       "      <th>Nodes1</th>\n",
       "      <th>Nodes2</th>\n",
       "    </tr>\n",
       "  </thead>\n",
       "  <tbody>\n",
       "    <tr>\n",
       "      <th>0</th>\n",
       "      <td>0.685278</td>\n",
       "      <td>0.718191</td>\n",
       "      <td>1.000000</td>\n",
       "      <td>australian_number</td>\n",
       "      <td>australian</td>\n",
       "      <td>number</td>\n",
       "    </tr>\n",
       "    <tr>\n",
       "      <th>1</th>\n",
       "      <td>0.928121</td>\n",
       "      <td>0.715879</td>\n",
       "      <td>1.000000</td>\n",
       "      <td>australian_round</td>\n",
       "      <td>australian</td>\n",
       "      <td>round</td>\n",
       "    </tr>\n",
       "    <tr>\n",
       "      <th>2</th>\n",
       "      <td>0.949249</td>\n",
       "      <td>0.724304</td>\n",
       "      <td>1.000000</td>\n",
       "      <td>federer_australian</td>\n",
       "      <td>federer</td>\n",
       "      <td>australian</td>\n",
       "    </tr>\n",
       "    <tr>\n",
       "      <th>3</th>\n",
       "      <td>0.874801</td>\n",
       "      <td>0.727110</td>\n",
       "      <td>1.000000</td>\n",
       "      <td>federer_number</td>\n",
       "      <td>federer</td>\n",
       "      <td>number</td>\n",
       "    </tr>\n",
       "    <tr>\n",
       "      <th>4</th>\n",
       "      <td>0.976386</td>\n",
       "      <td>0.722711</td>\n",
       "      <td>0.228313</td>\n",
       "      <td>federer_open</td>\n",
       "      <td>federer</td>\n",
       "      <td>open</td>\n",
       "    </tr>\n",
       "  </tbody>\n",
       "</table>\n",
       "</div>"
      ],
      "text/plain": [
       "   Gensim_LSI  Word2vec_similarity_score  cosine_similarity_score  \\\n",
       "0    0.685278                   0.718191                 1.000000   \n",
       "1    0.928121                   0.715879                 1.000000   \n",
       "2    0.949249                   0.724304                 1.000000   \n",
       "3    0.874801                   0.727110                 1.000000   \n",
       "4    0.976386                   0.722711                 0.228313   \n",
       "\n",
       "             concepts      Nodes1      Nodes2  \n",
       "0   australian_number  australian      number  \n",
       "1    australian_round  australian       round  \n",
       "2  federer_australian     federer  australian  \n",
       "3      federer_number     federer      number  \n",
       "4        federer_open     federer        open  "
      ]
     },
     "execution_count": 19,
     "metadata": {},
     "output_type": "execute_result"
    }
   ],
   "source": [
    "edgelist.head()"
   ]
  },
  {
   "cell_type": "code",
   "execution_count": 33,
   "metadata": {},
   "outputs": [
    {
     "name": "stdout",
     "output_type": "stream",
     "text": [
      "9\n",
      "7\n",
      "['number', 'round', 'henman', 'seed', 'grand', 'australian', 'open', 'federer', 'williams']\n",
      "[('number', 'australian'), ('number', 'federer'), ('number', 'grand'), ('round', 'australian'), ('round', 'federer'), ('australian', 'federer'), ('open', 'federer')]\n"
     ]
    }
   ],
   "source": [
    "print g1.number_of_nodes()\n",
    "print g1.number_of_edges()\n",
    "\n",
    "edgelist['concepts'][0]\n",
    "node1, node2 = (edgelist['concepts'][0]).split('_')\n",
    "\n",
    "\n",
    "node_len = g1.number_of_nodes()\n",
    "for i in xrange(node_len):\n",
    "    if edgelist['Gensim_LSI'][i] > 0.6:\n",
    "        node1, node2 = (edgelist['concepts'][i]).split('_')\n",
    "        g1.add_nodes_from([node1, node2])\n",
    "        w = edgelist['Gensim_LSI'][i]\n",
    "        g1.add_edge(node1, node2, weight= w)\n",
    "       \n",
    "    \n",
    "    \n",
    "print g1.nodes\n",
    "print g1.edges"
   ]
  },
  {
   "cell_type": "code",
   "execution_count": 36,
   "metadata": {},
   "outputs": [
    {
     "data": {
      "image/png": "[encoded data removed]",
      "text/plain": [
       "<Figure size 432x288 with 1 Axes>"
      ]
     },
     "metadata": {},
     "output_type": "display_data"
    }
   ],
   "source": [
    "import matplotlib.pyplot as plt\n",
    "\n",
    "nx.draw(g1, with_labels=True, font_weight='bold')\n"
   ]
  },
  {
   "cell_type": "code",
   "execution_count": 37,
   "metadata": {},
   "outputs": [
    {
     "name": "stdout",
     "output_type": "stream",
     "text": [
      "[('number', 3)]\n",
      "3\n",
      "[('number', 3), ('round', 2), ('henman', 0), ('seed', 0), ('grand', 1), ('australian', 3), ('open', 1), ('federer', 4), ('williams', 0)]\n"
     ]
    }
   ],
   "source": [
    "print g1.degree(['number'])\n",
    "print g1.degree['number']\n",
    "print g1.degree()\n",
    "deg_list = g1.degree()"
   ]
  },
  {
   "cell_type": "code",
   "execution_count": 38,
   "metadata": {},
   "outputs": [
    {
     "name": "stdout",
     "output_type": "stream",
     "text": [
      "{'number': 3, 'henman': 0, 'seed': 0, 'grand': 1, 'australian': 3, 'open': 1, 'round': 2, 'williams': 0, 'federer': 4}\n"
     ]
    },
    {
     "data": {
      "text/plain": [
       "['number',\n",
       " 'henman',\n",
       " 'seed',\n",
       " 'grand',\n",
       " 'australian',\n",
       " 'open',\n",
       " 'round',\n",
       " 'williams',\n",
       " 'federer']"
      ]
     },
     "execution_count": 38,
     "metadata": {},
     "output_type": "execute_result"
    }
   ],
   "source": [
    "degree_dict = dict(deg_list)\n",
    "print degree_dict\n",
    "concepts = dict(deg_list).keys()\n",
    "concepts"
   ]
  },
  {
   "cell_type": "code",
   "execution_count": 39,
   "metadata": {},
   "outputs": [],
   "source": [
    "# remove node which has no edges based on degree\n",
    "for node in degree_dict:\n",
    "    if degree_dict[node] == 0:\n",
    "        g1.remove_node(node)\n",
    "        \n",
    "    "
   ]
  },
  {
   "cell_type": "code",
   "execution_count": 40,
   "metadata": {},
   "outputs": [
    {
     "data": {
      "image/png": "[encoded data removed]",
      "text/plain": [
       "<Figure size 432x288 with 1 Axes>"
      ]
     },
     "metadata": {},
     "output_type": "display_data"
    }
   ],
   "source": [
    "nx.draw(g1, with_labels=True, font_weight='bold')\n"
   ]
  },
  {
   "cell_type": "code",
   "execution_count": null,
   "metadata": {},
   "outputs": [],
   "source": []
  }
 ],
 "metadata": {
  "kernelspec": {
   "display_name": "Python 2",
   "language": "python",
   "name": "python2"
  },
  "language_info": {
   "codemirror_mode": {
    "name": "ipython",
    "version": 2
   },
   "file_extension": ".py",
   "mimetype": "text/x-python",
   "name": "python",
   "nbconvert_exporter": "python",
   "pygments_lexer": "ipython2",
   "version": "2.7.14"
  }
 },
 "nbformat": 4,
 "nbformat_minor": 2
}
